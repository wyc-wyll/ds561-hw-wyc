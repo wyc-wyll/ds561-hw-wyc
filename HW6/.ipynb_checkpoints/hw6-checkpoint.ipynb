{
 "cells": [
  {
   "cell_type": "code",
   "execution_count": 1,
   "id": "7596d1e2",
   "metadata": {},
   "outputs": [
    {
     "name": "stdout",
     "output_type": "stream",
     "text": [
      "Requirement already satisfied: cloud-sql-python-connector[pymysql] in /Users/wylliamcheng/anaconda3/lib/python3.11/site-packages (1.4.2)\n",
      "Requirement already satisfied: SQLAlchemy==2.0.7 in /Users/wylliamcheng/anaconda3/lib/python3.11/site-packages (2.0.7)\n",
      "Requirement already satisfied: typing-extensions>=4.2.0 in /Users/wylliamcheng/anaconda3/lib/python3.11/site-packages (from SQLAlchemy==2.0.7) (4.7.1)\n",
      "Requirement already satisfied: greenlet!=0.4.17 in /Users/wylliamcheng/anaconda3/lib/python3.11/site-packages (from SQLAlchemy==2.0.7) (2.0.1)\n",
      "Requirement already satisfied: aiohttp in /Users/wylliamcheng/anaconda3/lib/python3.11/site-packages (from cloud-sql-python-connector[pymysql]) (3.8.5)\n",
      "Requirement already satisfied: cryptography>=38.0.3 in /Users/wylliamcheng/anaconda3/lib/python3.11/site-packages (from cloud-sql-python-connector[pymysql]) (39.0.1)\n",
      "Requirement already satisfied: Requests in /Users/wylliamcheng/anaconda3/lib/python3.11/site-packages (from cloud-sql-python-connector[pymysql]) (2.31.0)\n",
      "Requirement already satisfied: google-auth in /Users/wylliamcheng/anaconda3/lib/python3.11/site-packages (from cloud-sql-python-connector[pymysql]) (2.23.0)\n",
      "Requirement already satisfied: PyMySQL==1.1.0 in /Users/wylliamcheng/anaconda3/lib/python3.11/site-packages (from cloud-sql-python-connector[pymysql]) (1.1.0)\n",
      "Requirement already satisfied: cffi>=1.12 in /Users/wylliamcheng/anaconda3/lib/python3.11/site-packages (from cryptography>=38.0.3->cloud-sql-python-connector[pymysql]) (1.15.1)\n",
      "Requirement already satisfied: attrs>=17.3.0 in /Users/wylliamcheng/anaconda3/lib/python3.11/site-packages (from aiohttp->cloud-sql-python-connector[pymysql]) (22.1.0)\n",
      "Requirement already satisfied: charset-normalizer<4.0,>=2.0 in /Users/wylliamcheng/anaconda3/lib/python3.11/site-packages (from aiohttp->cloud-sql-python-connector[pymysql]) (2.0.4)\n",
      "Requirement already satisfied: multidict<7.0,>=4.5 in /Users/wylliamcheng/anaconda3/lib/python3.11/site-packages (from aiohttp->cloud-sql-python-connector[pymysql]) (6.0.2)\n",
      "Requirement already satisfied: async-timeout<5.0,>=4.0.0a3 in /Users/wylliamcheng/anaconda3/lib/python3.11/site-packages (from aiohttp->cloud-sql-python-connector[pymysql]) (4.0.2)\n",
      "Requirement already satisfied: yarl<2.0,>=1.0 in /Users/wylliamcheng/anaconda3/lib/python3.11/site-packages (from aiohttp->cloud-sql-python-connector[pymysql]) (1.8.1)\n",
      "Requirement already satisfied: frozenlist>=1.1.1 in /Users/wylliamcheng/anaconda3/lib/python3.11/site-packages (from aiohttp->cloud-sql-python-connector[pymysql]) (1.3.3)\n",
      "Requirement already satisfied: aiosignal>=1.1.2 in /Users/wylliamcheng/anaconda3/lib/python3.11/site-packages (from aiohttp->cloud-sql-python-connector[pymysql]) (1.2.0)\n",
      "Requirement already satisfied: cachetools<6.0,>=2.0.0 in /Users/wylliamcheng/anaconda3/lib/python3.11/site-packages (from google-auth->cloud-sql-python-connector[pymysql]) (5.3.1)\n",
      "Requirement already satisfied: pyasn1-modules>=0.2.1 in /Users/wylliamcheng/anaconda3/lib/python3.11/site-packages (from google-auth->cloud-sql-python-connector[pymysql]) (0.2.8)\n",
      "Requirement already satisfied: rsa<5,>=3.1.4 in /Users/wylliamcheng/anaconda3/lib/python3.11/site-packages (from google-auth->cloud-sql-python-connector[pymysql]) (4.9)\n",
      "Requirement already satisfied: urllib3<2.0 in /Users/wylliamcheng/anaconda3/lib/python3.11/site-packages (from google-auth->cloud-sql-python-connector[pymysql]) (1.26.16)\n",
      "Requirement already satisfied: idna<4,>=2.5 in /Users/wylliamcheng/anaconda3/lib/python3.11/site-packages (from Requests->cloud-sql-python-connector[pymysql]) (3.4)\n",
      "Requirement already satisfied: certifi>=2017.4.17 in /Users/wylliamcheng/anaconda3/lib/python3.11/site-packages (from Requests->cloud-sql-python-connector[pymysql]) (2023.7.22)\n",
      "Requirement already satisfied: pycparser in /Users/wylliamcheng/anaconda3/lib/python3.11/site-packages (from cffi>=1.12->cryptography>=38.0.3->cloud-sql-python-connector[pymysql]) (2.21)\n",
      "Requirement already satisfied: pyasn1<0.5.0,>=0.4.6 in /Users/wylliamcheng/anaconda3/lib/python3.11/site-packages (from pyasn1-modules>=0.2.1->google-auth->cloud-sql-python-connector[pymysql]) (0.4.8)\n",
      "\n",
      "\u001b[1m[\u001b[0m\u001b[34;49mnotice\u001b[0m\u001b[1;39;49m]\u001b[0m\u001b[39;49m A new release of pip is available: \u001b[0m\u001b[31;49m23.2.1\u001b[0m\u001b[39;49m -> \u001b[0m\u001b[32;49m23.3.1\u001b[0m\n",
      "\u001b[1m[\u001b[0m\u001b[34;49mnotice\u001b[0m\u001b[1;39;49m]\u001b[0m\u001b[39;49m To update, run: \u001b[0m\u001b[32;49mpip install --upgrade pip\u001b[0m\n"
     ]
    }
   ],
   "source": [
    "import sys\n",
    "\n",
    "!pip install 'cloud-sql-python-connector[pymysql]' SQLAlchemy==2.0.7"
   ]
  },
  {
   "cell_type": "code",
   "execution_count": 2,
   "id": "3f56ac75",
   "metadata": {},
   "outputs": [],
   "source": [
    "from google.cloud.sql.connector import Connector\n",
    "import sqlalchemy"
   ]
  },
  {
   "cell_type": "code",
   "execution_count": 3,
   "id": "d7c41e3b",
   "metadata": {},
   "outputs": [
    {
     "name": "stdout",
     "output_type": "stream",
     "text": [
      "Your instance connection name is: ds561-wyc-5304:us-east1:hw5--db\n"
     ]
    }
   ],
   "source": [
    "connector = Connector()\n",
    "\n",
    "project_id = \"ds561-wyc-5304\"\n",
    "region = \"us-east1\"\n",
    "instance_name = \"hw5--db\"\n",
    "\n",
    "# initialize parameters\n",
    "INSTANCE_CONNECTION_NAME = f\"{project_id}:{region}:{instance_name}\" # i.e demo-project:us-central1:demo-instance\n",
    "print(f\"Your instance connection name is: {INSTANCE_CONNECTION_NAME}\")\n",
    "DB_USER = \"root\"\n",
    "DB_PASS = \"454604\"\n",
    "DB_NAME = \"hw5\""
   ]
  },
  {
   "cell_type": "code",
   "execution_count": 4,
   "id": "5a7e89e6",
   "metadata": {},
   "outputs": [],
   "source": [
    "def getconn():\n",
    "    conn = connector.connect(\n",
    "        INSTANCE_CONNECTION_NAME,\n",
    "        \"pymysql\",\n",
    "        user=DB_USER,\n",
    "        password=DB_PASS,\n",
    "        db=DB_NAME\n",
    "    )\n",
    "    return conn\n",
    "\n",
    "# create connection pool with 'creator' argument to our connection object function\n",
    "pool = sqlalchemy.create_engine(\n",
    "    \"mysql+pymysql://\",\n",
    "    creator=getconn,\n",
    ")"
   ]
  },
  {
   "cell_type": "code",
   "execution_count": 5,
   "id": "7b27449d",
   "metadata": {},
   "outputs": [],
   "source": [
    "def getColumnOfAllData(category: str):\n",
    "    try:\n",
    "        with pool.connect() as db_conn:\n",
    "            results = db_conn.execute(sqlalchemy.text(\"SELECT {} FROM Request\".format(category))).fetchall()\n",
    "        return results\n",
    "    except:\n",
    "        return None"
   ]
  },
  {
   "cell_type": "code",
   "execution_count": 23,
   "id": "e3e62af4",
   "metadata": {},
   "outputs": [],
   "source": [
    "from sklearn.model_selection import train_test_split\n",
    "from sklearn.cluster import KMeans\n",
    "from sklearn.preprocessing import LabelEncoder\n",
    "import numpy as np\n",
    "\n",
    "ip_X = np.array(getColumnOfAllData(\"client_ip\"))\n",
    "ip_X = np.char.split(ip_X, sep=\".\").tolist()\n",
    "ip_X = np.array(ip_X, dtype=int).flatten()\n",
    "ip_X = np.reshape(ip_X, (-1, 4))\n",
    "ip_X = ip_X[:,:3]\n",
    "\n",
    "country_y = np.array(getColumnOfAllData(\"country\"))\n",
    "le = LabelEncoder()\n",
    "le.fit(country_y.flatten())\n",
    "country_index_y = le.transform(country_y.flatten())\n",
    "num_unique_country = max(country_index_y) + 1\n",
    "\n",
    "ip_X_train, ip_X_test, country_index_y_train, country_index_y_test = train_test_split(ip_X, country_index_y ,test_size=0.35, shuffle=True)\n",
    "ip_X_train, ip_X_test, country_y_train, country_y_test = train_test_split(ip_X, country_y ,test_size=0.35, shuffle=True)"
   ]
  },
  {
   "cell_type": "code",
   "execution_count": 15,
   "id": "aa506885",
   "metadata": {},
   "outputs": [
    {
     "name": "stderr",
     "output_type": "stream",
     "text": [
      "/Users/wylliamcheng/anaconda3/lib/python3.11/site-packages/sklearn/utils/validation.py:1184: DataConversionWarning: A column-vector y was passed when a 1d array was expected. Please change the shape of y to (n_samples, ), for example using ravel().\n",
      "  y = column_or_1d(y, warn=True)\n"
     ]
    },
    {
     "data": {
      "text/html": [
       "<style>#sk-container-id-5 {color: black;}#sk-container-id-5 pre{padding: 0;}#sk-container-id-5 div.sk-toggleable {background-color: white;}#sk-container-id-5 label.sk-toggleable__label {cursor: pointer;display: block;width: 100%;margin-bottom: 0;padding: 0.3em;box-sizing: border-box;text-align: center;}#sk-container-id-5 label.sk-toggleable__label-arrow:before {content: \"▸\";float: left;margin-right: 0.25em;color: #696969;}#sk-container-id-5 label.sk-toggleable__label-arrow:hover:before {color: black;}#sk-container-id-5 div.sk-estimator:hover label.sk-toggleable__label-arrow:before {color: black;}#sk-container-id-5 div.sk-toggleable__content {max-height: 0;max-width: 0;overflow: hidden;text-align: left;background-color: #f0f8ff;}#sk-container-id-5 div.sk-toggleable__content pre {margin: 0.2em;color: black;border-radius: 0.25em;background-color: #f0f8ff;}#sk-container-id-5 input.sk-toggleable__control:checked~div.sk-toggleable__content {max-height: 200px;max-width: 100%;overflow: auto;}#sk-container-id-5 input.sk-toggleable__control:checked~label.sk-toggleable__label-arrow:before {content: \"▾\";}#sk-container-id-5 div.sk-estimator input.sk-toggleable__control:checked~label.sk-toggleable__label {background-color: #d4ebff;}#sk-container-id-5 div.sk-label input.sk-toggleable__control:checked~label.sk-toggleable__label {background-color: #d4ebff;}#sk-container-id-5 input.sk-hidden--visually {border: 0;clip: rect(1px 1px 1px 1px);clip: rect(1px, 1px, 1px, 1px);height: 1px;margin: -1px;overflow: hidden;padding: 0;position: absolute;width: 1px;}#sk-container-id-5 div.sk-estimator {font-family: monospace;background-color: #f0f8ff;border: 1px dotted black;border-radius: 0.25em;box-sizing: border-box;margin-bottom: 0.5em;}#sk-container-id-5 div.sk-estimator:hover {background-color: #d4ebff;}#sk-container-id-5 div.sk-parallel-item::after {content: \"\";width: 100%;border-bottom: 1px solid gray;flex-grow: 1;}#sk-container-id-5 div.sk-label:hover label.sk-toggleable__label {background-color: #d4ebff;}#sk-container-id-5 div.sk-serial::before {content: \"\";position: absolute;border-left: 1px solid gray;box-sizing: border-box;top: 0;bottom: 0;left: 50%;z-index: 0;}#sk-container-id-5 div.sk-serial {display: flex;flex-direction: column;align-items: center;background-color: white;padding-right: 0.2em;padding-left: 0.2em;position: relative;}#sk-container-id-5 div.sk-item {position: relative;z-index: 1;}#sk-container-id-5 div.sk-parallel {display: flex;align-items: stretch;justify-content: center;background-color: white;position: relative;}#sk-container-id-5 div.sk-item::before, #sk-container-id-5 div.sk-parallel-item::before {content: \"\";position: absolute;border-left: 1px solid gray;box-sizing: border-box;top: 0;bottom: 0;left: 50%;z-index: -1;}#sk-container-id-5 div.sk-parallel-item {display: flex;flex-direction: column;z-index: 1;position: relative;background-color: white;}#sk-container-id-5 div.sk-parallel-item:first-child::after {align-self: flex-end;width: 50%;}#sk-container-id-5 div.sk-parallel-item:last-child::after {align-self: flex-start;width: 50%;}#sk-container-id-5 div.sk-parallel-item:only-child::after {width: 0;}#sk-container-id-5 div.sk-dashed-wrapped {border: 1px dashed gray;margin: 0 0.4em 0.5em 0.4em;box-sizing: border-box;padding-bottom: 0.4em;background-color: white;}#sk-container-id-5 div.sk-label label {font-family: monospace;font-weight: bold;display: inline-block;line-height: 1.2em;}#sk-container-id-5 div.sk-label-container {text-align: center;}#sk-container-id-5 div.sk-container {/* jupyter's `normalize.less` sets `[hidden] { display: none; }` but bootstrap.min.css set `[hidden] { display: none !important; }` so we also need the `!important` here to be able to override the default hidden behavior on the sphinx rendered scikit-learn.org. See: https://github.com/scikit-learn/scikit-learn/issues/21755 */display: inline-block !important;position: relative;}#sk-container-id-5 div.sk-text-repr-fallback {display: none;}</style><div id=\"sk-container-id-5\" class=\"sk-top-container\"><div class=\"sk-text-repr-fallback\"><pre>SVC(C=200)</pre><b>In a Jupyter environment, please rerun this cell to show the HTML representation or trust the notebook. <br />On GitHub, the HTML representation is unable to render, please try loading this page with nbviewer.org.</b></div><div class=\"sk-container\" hidden><div class=\"sk-item\"><div class=\"sk-estimator sk-toggleable\"><input class=\"sk-toggleable__control sk-hidden--visually\" id=\"sk-estimator-id-5\" type=\"checkbox\" checked><label for=\"sk-estimator-id-5\" class=\"sk-toggleable__label sk-toggleable__label-arrow\">SVC</label><div class=\"sk-toggleable__content\"><pre>SVC(C=200)</pre></div></div></div></div></div>"
      ],
      "text/plain": [
       "SVC(C=200)"
      ]
     },
     "execution_count": 15,
     "metadata": {},
     "output_type": "execute_result"
    }
   ],
   "source": [
    "## MODEL\n",
    "\n",
    "# country_index_y\n",
    "# model = KMeans(n_clusters=num_unique_country, n_init=100, max_iter=300, init='k-means++').fit(ip_X.reshape(-1,1))\n",
    "\n",
    "from sklearn.svm import SVC\n",
    "from sklearn.metrics import accuracy_score\n",
    "\n",
    "clf = SVC(kernel=\"rbf\", C=200)\n",
    "clf.fit(ip_X_train,country_y_train)"
   ]
  },
  {
   "cell_type": "code",
   "execution_count": 16,
   "id": "21e34b9d",
   "metadata": {},
   "outputs": [
    {
     "name": "stdout",
     "output_type": "stream",
     "text": [
      "0.9943381941472728\n"
     ]
    }
   ],
   "source": [
    "y_pred = clf.predict(ip_X_test)\n",
    "print(\"Country prediction accuracy: \", accuracy_score(country_y_test,y_pred))"
   ]
  },
  {
   "cell_type": "code",
   "execution_count": 24,
   "id": "de471a7f",
   "metadata": {},
   "outputs": [
    {
     "data": {
      "text/plain": [
       "array(['Montenegro', 'Qatar'], dtype='<U33')"
      ]
     },
     "execution_count": 24,
     "metadata": {},
     "output_type": "execute_result"
    }
   ],
   "source": [
    "def predictCountry(ip):\n",
    "    inp = np.char.split(ip, sep=\".\").tolist()\n",
    "    inp = np.array(inp, dtype=int).flatten().reshape((-1, 4))\n",
    "    inp = inp[:,:3]\n",
    "    return clf.predict(inp)"
   ]
  },
  {
   "cell_type": "code",
   "execution_count": 25,
   "id": "00813f41",
   "metadata": {},
   "outputs": [
    {
     "data": {
      "text/plain": [
       "array([['66-75', 'Female', 'Palau'],\n",
       "       ['56-65', 'Female', 'Colombia'],\n",
       "       ['66-75', 'Female', 'Nigeria'],\n",
       "       ...,\n",
       "       ['26-35', 'Female', 'Iceland'],\n",
       "       ['66-75', 'Male', 'Luxembourg'],\n",
       "       ['17-25', 'Female', 'Burkina Faso']], dtype='<U33')"
      ]
     },
     "execution_count": 25,
     "metadata": {},
     "output_type": "execute_result"
    }
   ],
   "source": [
    "X_income = np.array(getColumnOfAllData(\"age, gender, country\"))\n",
    "y_income = np.array(getColumnOfAllData(\"income\"))"
   ]
  },
  {
   "cell_type": "code",
   "execution_count": 26,
   "id": "489e1c12",
   "metadata": {},
   "outputs": [
    {
     "name": "stderr",
     "output_type": "stream",
     "text": [
      "/Users/wylliamcheng/anaconda3/lib/python3.11/site-packages/sklearn/preprocessing/_label.py:97: DataConversionWarning: A column-vector y was passed when a 1d array was expected. Please change the shape of y to (n_samples, ), for example using ravel().\n",
      "  y = column_or_1d(y, warn=True)\n"
     ]
    },
    {
     "data": {
      "text/html": [
       "<style>#sk-container-id-6 {color: black;}#sk-container-id-6 pre{padding: 0;}#sk-container-id-6 div.sk-toggleable {background-color: white;}#sk-container-id-6 label.sk-toggleable__label {cursor: pointer;display: block;width: 100%;margin-bottom: 0;padding: 0.3em;box-sizing: border-box;text-align: center;}#sk-container-id-6 label.sk-toggleable__label-arrow:before {content: \"▸\";float: left;margin-right: 0.25em;color: #696969;}#sk-container-id-6 label.sk-toggleable__label-arrow:hover:before {color: black;}#sk-container-id-6 div.sk-estimator:hover label.sk-toggleable__label-arrow:before {color: black;}#sk-container-id-6 div.sk-toggleable__content {max-height: 0;max-width: 0;overflow: hidden;text-align: left;background-color: #f0f8ff;}#sk-container-id-6 div.sk-toggleable__content pre {margin: 0.2em;color: black;border-radius: 0.25em;background-color: #f0f8ff;}#sk-container-id-6 input.sk-toggleable__control:checked~div.sk-toggleable__content {max-height: 200px;max-width: 100%;overflow: auto;}#sk-container-id-6 input.sk-toggleable__control:checked~label.sk-toggleable__label-arrow:before {content: \"▾\";}#sk-container-id-6 div.sk-estimator input.sk-toggleable__control:checked~label.sk-toggleable__label {background-color: #d4ebff;}#sk-container-id-6 div.sk-label input.sk-toggleable__control:checked~label.sk-toggleable__label {background-color: #d4ebff;}#sk-container-id-6 input.sk-hidden--visually {border: 0;clip: rect(1px 1px 1px 1px);clip: rect(1px, 1px, 1px, 1px);height: 1px;margin: -1px;overflow: hidden;padding: 0;position: absolute;width: 1px;}#sk-container-id-6 div.sk-estimator {font-family: monospace;background-color: #f0f8ff;border: 1px dotted black;border-radius: 0.25em;box-sizing: border-box;margin-bottom: 0.5em;}#sk-container-id-6 div.sk-estimator:hover {background-color: #d4ebff;}#sk-container-id-6 div.sk-parallel-item::after {content: \"\";width: 100%;border-bottom: 1px solid gray;flex-grow: 1;}#sk-container-id-6 div.sk-label:hover label.sk-toggleable__label {background-color: #d4ebff;}#sk-container-id-6 div.sk-serial::before {content: \"\";position: absolute;border-left: 1px solid gray;box-sizing: border-box;top: 0;bottom: 0;left: 50%;z-index: 0;}#sk-container-id-6 div.sk-serial {display: flex;flex-direction: column;align-items: center;background-color: white;padding-right: 0.2em;padding-left: 0.2em;position: relative;}#sk-container-id-6 div.sk-item {position: relative;z-index: 1;}#sk-container-id-6 div.sk-parallel {display: flex;align-items: stretch;justify-content: center;background-color: white;position: relative;}#sk-container-id-6 div.sk-item::before, #sk-container-id-6 div.sk-parallel-item::before {content: \"\";position: absolute;border-left: 1px solid gray;box-sizing: border-box;top: 0;bottom: 0;left: 50%;z-index: -1;}#sk-container-id-6 div.sk-parallel-item {display: flex;flex-direction: column;z-index: 1;position: relative;background-color: white;}#sk-container-id-6 div.sk-parallel-item:first-child::after {align-self: flex-end;width: 50%;}#sk-container-id-6 div.sk-parallel-item:last-child::after {align-self: flex-start;width: 50%;}#sk-container-id-6 div.sk-parallel-item:only-child::after {width: 0;}#sk-container-id-6 div.sk-dashed-wrapped {border: 1px dashed gray;margin: 0 0.4em 0.5em 0.4em;box-sizing: border-box;padding-bottom: 0.4em;background-color: white;}#sk-container-id-6 div.sk-label label {font-family: monospace;font-weight: bold;display: inline-block;line-height: 1.2em;}#sk-container-id-6 div.sk-label-container {text-align: center;}#sk-container-id-6 div.sk-container {/* jupyter's `normalize.less` sets `[hidden] { display: none; }` but bootstrap.min.css set `[hidden] { display: none !important; }` so we also need the `!important` here to be able to override the default hidden behavior on the sphinx rendered scikit-learn.org. See: https://github.com/scikit-learn/scikit-learn/issues/21755 */display: inline-block !important;position: relative;}#sk-container-id-6 div.sk-text-repr-fallback {display: none;}</style><div id=\"sk-container-id-6\" class=\"sk-top-container\"><div class=\"sk-text-repr-fallback\"><pre>LabelEncoder()</pre><b>In a Jupyter environment, please rerun this cell to show the HTML representation or trust the notebook. <br />On GitHub, the HTML representation is unable to render, please try loading this page with nbviewer.org.</b></div><div class=\"sk-container\" hidden><div class=\"sk-item\"><div class=\"sk-estimator sk-toggleable\"><input class=\"sk-toggleable__control sk-hidden--visually\" id=\"sk-estimator-id-6\" type=\"checkbox\" checked><label for=\"sk-estimator-id-6\" class=\"sk-toggleable__label sk-toggleable__label-arrow\">LabelEncoder</label><div class=\"sk-toggleable__content\"><pre>LabelEncoder()</pre></div></div></div></div></div>"
      ],
      "text/plain": [
       "LabelEncoder()"
      ]
     },
     "execution_count": 26,
     "metadata": {},
     "output_type": "execute_result"
    }
   ],
   "source": [
    "age_enc = LabelEncoder()\n",
    "age_enc.fit(X_income[:,0])\n",
    "gender_enc = LabelEncoder()\n",
    "gender_enc.fit(X_income[:,1])\n",
    "country_enc = LabelEncoder()\n",
    "country_enc.fit(X_income[:,2])\n",
    "income_enc = LabelEncoder()\n",
    "income_enc.fit(y_income)"
   ]
  },
  {
   "cell_type": "code",
   "execution_count": 29,
   "id": "92441b47",
   "metadata": {},
   "outputs": [
    {
     "name": "stderr",
     "output_type": "stream",
     "text": [
      "/Users/wylliamcheng/anaconda3/lib/python3.11/site-packages/sklearn/preprocessing/_label.py:132: DataConversionWarning: A column-vector y was passed when a 1d array was expected. Please change the shape of y to (n_samples, ), for example using ravel().\n",
      "  y = column_or_1d(y, dtype=self.classes_.dtype, warn=True)\n"
     ]
    },
    {
     "data": {
      "text/plain": [
       "array([0, 5, 3, ..., 1, 6, 1])"
      ]
     },
     "execution_count": 29,
     "metadata": {},
     "output_type": "execute_result"
    }
   ],
   "source": [
    "X_income_processed = np.array([age_enc.transform(X_income[:,0]), gender_enc.transform(X_income[:,1]), country_enc.transform(X_income[:,2])])\n",
    "X_income_processed = X_income_processed.T\n",
    "\n",
    "y_income_processed = income_enc.transform(y_income)"
   ]
  },
  {
   "cell_type": "code",
   "execution_count": 151,
   "id": "0b16d5e9",
   "metadata": {},
   "outputs": [],
   "source": [
    "X_train, X_test, y_train, y_test = train_test_split(X_income_processed, y_income_processed ,test_size=0.1, shuffle=True)"
   ]
  },
  {
   "cell_type": "code",
   "execution_count": 172,
   "id": "9fd1d5f6",
   "metadata": {},
   "outputs": [
    {
     "data": {
      "text/html": [
       "<style>#sk-container-id-28 {color: black;}#sk-container-id-28 pre{padding: 0;}#sk-container-id-28 div.sk-toggleable {background-color: white;}#sk-container-id-28 label.sk-toggleable__label {cursor: pointer;display: block;width: 100%;margin-bottom: 0;padding: 0.3em;box-sizing: border-box;text-align: center;}#sk-container-id-28 label.sk-toggleable__label-arrow:before {content: \"▸\";float: left;margin-right: 0.25em;color: #696969;}#sk-container-id-28 label.sk-toggleable__label-arrow:hover:before {color: black;}#sk-container-id-28 div.sk-estimator:hover label.sk-toggleable__label-arrow:before {color: black;}#sk-container-id-28 div.sk-toggleable__content {max-height: 0;max-width: 0;overflow: hidden;text-align: left;background-color: #f0f8ff;}#sk-container-id-28 div.sk-toggleable__content pre {margin: 0.2em;color: black;border-radius: 0.25em;background-color: #f0f8ff;}#sk-container-id-28 input.sk-toggleable__control:checked~div.sk-toggleable__content {max-height: 200px;max-width: 100%;overflow: auto;}#sk-container-id-28 input.sk-toggleable__control:checked~label.sk-toggleable__label-arrow:before {content: \"▾\";}#sk-container-id-28 div.sk-estimator input.sk-toggleable__control:checked~label.sk-toggleable__label {background-color: #d4ebff;}#sk-container-id-28 div.sk-label input.sk-toggleable__control:checked~label.sk-toggleable__label {background-color: #d4ebff;}#sk-container-id-28 input.sk-hidden--visually {border: 0;clip: rect(1px 1px 1px 1px);clip: rect(1px, 1px, 1px, 1px);height: 1px;margin: -1px;overflow: hidden;padding: 0;position: absolute;width: 1px;}#sk-container-id-28 div.sk-estimator {font-family: monospace;background-color: #f0f8ff;border: 1px dotted black;border-radius: 0.25em;box-sizing: border-box;margin-bottom: 0.5em;}#sk-container-id-28 div.sk-estimator:hover {background-color: #d4ebff;}#sk-container-id-28 div.sk-parallel-item::after {content: \"\";width: 100%;border-bottom: 1px solid gray;flex-grow: 1;}#sk-container-id-28 div.sk-label:hover label.sk-toggleable__label {background-color: #d4ebff;}#sk-container-id-28 div.sk-serial::before {content: \"\";position: absolute;border-left: 1px solid gray;box-sizing: border-box;top: 0;bottom: 0;left: 50%;z-index: 0;}#sk-container-id-28 div.sk-serial {display: flex;flex-direction: column;align-items: center;background-color: white;padding-right: 0.2em;padding-left: 0.2em;position: relative;}#sk-container-id-28 div.sk-item {position: relative;z-index: 1;}#sk-container-id-28 div.sk-parallel {display: flex;align-items: stretch;justify-content: center;background-color: white;position: relative;}#sk-container-id-28 div.sk-item::before, #sk-container-id-28 div.sk-parallel-item::before {content: \"\";position: absolute;border-left: 1px solid gray;box-sizing: border-box;top: 0;bottom: 0;left: 50%;z-index: -1;}#sk-container-id-28 div.sk-parallel-item {display: flex;flex-direction: column;z-index: 1;position: relative;background-color: white;}#sk-container-id-28 div.sk-parallel-item:first-child::after {align-self: flex-end;width: 50%;}#sk-container-id-28 div.sk-parallel-item:last-child::after {align-self: flex-start;width: 50%;}#sk-container-id-28 div.sk-parallel-item:only-child::after {width: 0;}#sk-container-id-28 div.sk-dashed-wrapped {border: 1px dashed gray;margin: 0 0.4em 0.5em 0.4em;box-sizing: border-box;padding-bottom: 0.4em;background-color: white;}#sk-container-id-28 div.sk-label label {font-family: monospace;font-weight: bold;display: inline-block;line-height: 1.2em;}#sk-container-id-28 div.sk-label-container {text-align: center;}#sk-container-id-28 div.sk-container {/* jupyter's `normalize.less` sets `[hidden] { display: none; }` but bootstrap.min.css set `[hidden] { display: none !important; }` so we also need the `!important` here to be able to override the default hidden behavior on the sphinx rendered scikit-learn.org. See: https://github.com/scikit-learn/scikit-learn/issues/21755 */display: inline-block !important;position: relative;}#sk-container-id-28 div.sk-text-repr-fallback {display: none;}</style><div id=\"sk-container-id-28\" class=\"sk-top-container\"><div class=\"sk-text-repr-fallback\"><pre>RandomForestClassifier(max_depth=1000, n_estimators=500)</pre><b>In a Jupyter environment, please rerun this cell to show the HTML representation or trust the notebook. <br />On GitHub, the HTML representation is unable to render, please try loading this page with nbviewer.org.</b></div><div class=\"sk-container\" hidden><div class=\"sk-item\"><div class=\"sk-estimator sk-toggleable\"><input class=\"sk-toggleable__control sk-hidden--visually\" id=\"sk-estimator-id-28\" type=\"checkbox\" checked><label for=\"sk-estimator-id-28\" class=\"sk-toggleable__label sk-toggleable__label-arrow\">RandomForestClassifier</label><div class=\"sk-toggleable__content\"><pre>RandomForestClassifier(max_depth=1000, n_estimators=500)</pre></div></div></div></div></div>"
      ],
      "text/plain": [
       "RandomForestClassifier(max_depth=1000, n_estimators=500)"
      ]
     },
     "execution_count": 172,
     "metadata": {},
     "output_type": "execute_result"
    }
   ],
   "source": [
    "from sklearn.ensemble import RandomForestClassifier\n",
    "\n",
    "# pipe = \n",
    "\n",
    "income_regressor = RandomForestClassifier(n_estimators=500, max_depth=1000)\n",
    "income_regressor.fit(X_train, y_train)"
   ]
  },
  {
   "cell_type": "code",
   "execution_count": 175,
   "id": "e2e4c3c5",
   "metadata": {},
   "outputs": [
    {
     "name": "stdout",
     "output_type": "stream",
     "text": [
      "income prediction accuracy:  0.13329493087557603\n"
     ]
    }
   ],
   "source": [
    "y_income_pred = income_regressor.predict(X_test)\n",
    "\n",
    "print(\"income prediction accuracy: \", accuracy_score(y_test,y_income_pred))\n",
    "\n",
    "# print(y_income_pred)\n",
    "# print()\n",
    "# print(y_test)"
   ]
  },
  {
   "cell_type": "code",
   "execution_count": null,
   "id": "248f827a",
   "metadata": {},
   "outputs": [],
   "source": []
  },
  {
   "cell_type": "code",
   "execution_count": null,
   "id": "0b16ad09",
   "metadata": {},
   "outputs": [],
   "source": []
  }
 ],
 "metadata": {
  "kernelspec": {
   "display_name": "Python 3 (ipykernel)",
   "language": "python",
   "name": "python3"
  },
  "language_info": {
   "codemirror_mode": {
    "name": "ipython",
    "version": 3
   },
   "file_extension": ".py",
   "mimetype": "text/x-python",
   "name": "python",
   "nbconvert_exporter": "python",
   "pygments_lexer": "ipython3",
   "version": "3.11.3"
  }
 },
 "nbformat": 4,
 "nbformat_minor": 5
}
